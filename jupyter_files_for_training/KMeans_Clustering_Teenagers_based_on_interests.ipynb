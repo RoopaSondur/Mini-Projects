{
 "cells": [
  {
   "cell_type": "markdown",
   "metadata": {},
   "source": [
    "# Problem Statement:\n",
    "\n",
    "Say **Decathlon** wants to send advertisements/promotions about the sports products. Decathlon wants to identify its potential customers who are likely to buy the sports products and send specific advertisements to those groups who are interested in sports. Instead of wasting money on mass advertisement, Decathlon wants to target marketing ads to specific groups of people. This is likely to increase the hit ratio of the advertisement/promotion. So find the groups of teenagers based on their interest in sports."
   ]
  },
  {
   "cell_type": "markdown",
   "metadata": {},
   "source": [
    "**Steps:**\n",
    "\n",
    "1. Acquire data\n",
    "\n",
    "2. Clean data\n",
    "\n",
    "3. Standardise data\n",
    "\n",
    "4. Apply K-Means Clustering"
   ]
  },
  {
   "cell_type": "markdown",
   "metadata": {
    "collapsed": true
   },
   "source": [
    "# Data Source:\n",
    "\n",
    "**snsdata.csv**"
   ]
  },
  {
   "cell_type": "markdown",
   "metadata": {
    "collapsed": true
   },
   "source": [
    "# Data Dictionary:\n",
    "\n",
    "The snsdata has **30000 rows**(samples/observations) and **40 columns**(attributes)\n",
    "\n",
    "These are the attributes in the dataset:\n",
    "\n",
    "'gradyear', 'gender', 'age', 'friends', 'basketball', 'football',\n",
    "'soccer', 'softball', 'volleyball', 'swimming', 'cheerleading',\n",
    "'baseball', 'tennis', 'sports', 'cute', 'sex', 'sexy', 'hot', 'kissed',\n",
    "'dance', 'band', 'marching', 'music', 'rock', 'god', 'church', 'jesus',\n",
    "'bible', 'hair', 'dress', 'blonde', 'mall', 'shopping', 'clothes',\n",
    "'hollister', 'abercrombie', 'die', 'death', 'drunk', 'drugs'"
   ]
  },
  {
   "cell_type": "markdown",
   "metadata": {},
   "source": [
    "# Import Libraries"
   ]
  },
  {
   "cell_type": "code",
   "execution_count": null,
   "metadata": {},
   "outputs": [],
   "source": [
    "# Pandas is a package for data manipulation and analysis\n",
    "import pandas as pd\n",
    "\n",
    "# Numpy is a package for scientific computing (multi-dimensional arrays, matrices, mathematical functions)\n",
    "import numpy as np\n",
    "\n",
    "# Data visualization library\n",
    "import matplotlib.pyplot as plt\n",
    "\n",
    "# Seaborn is a Python data visualization library for statistical graphics\n",
    "import seaborn as sns\n",
    "\n",
    "# Magic function which displays plots directly below the code cell in jupyter notebook\n",
    "%matplotlib inline\n",
    "\n",
    "# K-Means Clustering algorithm\n",
    "from sklearn.cluster import KMeans\n"
   ]
  },
  {
   "cell_type": "markdown",
   "metadata": {},
   "source": [
    "# Acquire Data"
   ]
  },
  {
   "cell_type": "code",
   "execution_count": null,
   "metadata": {},
   "outputs": [],
   "source": [
    "teens_df = pd.read_csv(\"snsdata.csv\")"
   ]
  },
  {
   "cell_type": "code",
   "execution_count": null,
   "metadata": {},
   "outputs": [],
   "source": [
    "with pd.option_context('display.max_rows', None, 'display.max_columns', None):\n",
    "    display(teens_df.head())"
   ]
  },
  {
   "cell_type": "code",
   "execution_count": null,
   "metadata": {},
   "outputs": [],
   "source": [
    "# To display number of rows and columns in the teens_df\n",
    "\n",
    "teens_df.shape"
   ]
  },
  {
   "cell_type": "code",
   "execution_count": null,
   "metadata": {},
   "outputs": [],
   "source": [
    "teens_df.info()"
   ]
  },
  {
   "cell_type": "markdown",
   "metadata": {},
   "source": [
    "# Summary Statistics"
   ]
  },
  {
   "cell_type": "code",
   "execution_count": null,
   "metadata": {},
   "outputs": [],
   "source": [
    "teens_df.drop(['gradyear'], axis=1).describe()"
   ]
  },
  {
   "cell_type": "code",
   "execution_count": null,
   "metadata": {},
   "outputs": [],
   "source": [
    "# Check for missing values\n",
    "print('Number of missing values across columns-\\n', teens_df.isnull().sum())"
   ]
  },
  {
   "cell_type": "code",
   "execution_count": null,
   "metadata": {},
   "outputs": [],
   "source": [
    "# Missing value inputation using 'mean' age\n",
    "\n",
    "teens_df = teens_df.fillna({'age': teens_df.age.mean()})     \n",
    "\n",
    "\"\"\"Alternative way of handling missing values in 'age' - you can groupby graduation year, \n",
    "then calculate mean age for that graduation year and impute the missing value with this age.                                      \"\"\"\n"
   ]
  },
  {
   "cell_type": "markdown",
   "metadata": {},
   "source": [
    "Teenagers' interest columns are extracted and stored in separate dataframe called interest_df. These columns will form the dimensions for the cluster analysis. Notice, the interest columns seem to be some kind of relative weights and since we don't know what is the range of weights, we will scale all the interest columns"
   ]
  },
  {
   "cell_type": "code",
   "execution_count": null,
   "metadata": {},
   "outputs": [],
   "source": [
    "# loc - label based indexing\n",
    "# For clustering based on interests, we have not considered 4 variables 'gradyear', 'gender', 'age', 'friends' \n",
    "\n",
    "interest_df = teens_df.loc[:, 'basketball':'drugs']"
   ]
  },
  {
   "cell_type": "code",
   "execution_count": null,
   "metadata": {},
   "outputs": [],
   "source": [
    "# No. of rows and columns\n",
    "\n",
    "interest_df.shape"
   ]
  },
  {
   "cell_type": "code",
   "execution_count": null,
   "metadata": {},
   "outputs": [],
   "source": [
    "from sklearn.preprocessing import StandardScaler\n",
    "\n",
    "scaler = StandardScaler()\n",
    "interest_std = scaler.fit_transform(interest_df)"
   ]
  },
  {
   "cell_type": "code",
   "execution_count": null,
   "metadata": {},
   "outputs": [],
   "source": [
    "import matplotlib.pyplot as plt\n",
    "from matplotlib import cm"
   ]
  },
  {
   "cell_type": "code",
   "execution_count": null,
   "metadata": {},
   "outputs": [],
   "source": [
    "#The built-in range function in Python is very useful to generate sequences of numbers \n",
    "\n",
    "list(range(1, 15))"
   ]
  },
  {
   "cell_type": "code",
   "execution_count": null,
   "metadata": {},
   "outputs": [],
   "source": [
    "cluster_range = range(1, 15)\n",
    "cluster_errors = []\n",
    "\n",
    "for num_clusters in cluster_range:\n",
    "  clusters = KMeans(n_clusters = num_clusters)\n",
    "  clusters.fit(interest_std)\n",
    "  labels = clusters.labels_\n",
    "  centroids = clusters.cluster_centers_\n",
    "  cluster_errors.append( clusters.inertia_ )\n",
    "clusters_df = pd.DataFrame( { \"num_clusters\":cluster_range, \"cluster_errors\": cluster_errors } )\n",
    "\n",
    "\"\"\"The total sum of squared distances of every data point from respective centroid is called Inertia(cluster_error).\n",
    "Let us print the inertia value for all K values. That K at which the inertia stops to drop significantly \n",
    "(elbow method) will be the best K.\"\"\"\n",
    "\n",
    "clusters_df[0:15]"
   ]
  },
  {
   "cell_type": "code",
   "execution_count": null,
   "metadata": {},
   "outputs": [],
   "source": [
    "# Elbow plot\n",
    "\n",
    "plt.figure(figsize=(12,6))\n",
    "plt.plot( clusters_df.num_clusters, clusters_df.cluster_errors, marker = \"o\" )\n",
    "plt.xlabel(\"num of clusters(k)\")\n",
    "plt.ylabel(\"cluster errors\")"
   ]
  },
  {
   "cell_type": "code",
   "execution_count": null,
   "metadata": {},
   "outputs": [],
   "source": [
    "kmeans = KMeans(n_clusters=6, random_state=7) #set random_state to some number for reproducibility"
   ]
  },
  {
   "cell_type": "code",
   "execution_count": null,
   "metadata": {},
   "outputs": [],
   "source": [
    "kmeans.fit(interest_std)\n",
    "centroids = kmeans.cluster_centers_"
   ]
  },
  {
   "cell_type": "code",
   "execution_count": null,
   "metadata": {},
   "outputs": [],
   "source": [
    "centroids"
   ]
  },
  {
   "cell_type": "code",
   "execution_count": null,
   "metadata": {},
   "outputs": [],
   "source": [
    "## creating a new dataframe only for labels and converting it into categorical variable\n",
    "\n",
    "teens_labels = pd.DataFrame(kmeans.labels_ , columns = list(['cluster_labels']))\n",
    "\n",
    "teens_labels['cluster_labels'] = teens_labels['cluster_labels'].astype('category')"
   ]
  },
  {
   "cell_type": "code",
   "execution_count": null,
   "metadata": {},
   "outputs": [],
   "source": [
    "teens_labels.head(10)"
   ]
  },
  {
   "cell_type": "code",
   "execution_count": null,
   "metadata": {},
   "outputs": [],
   "source": [
    "# Joining the 'teens_labels' dataframe with the teens data frame to create teens_df_labeled. \n",
    "#Note: it could be appended to original dataframe\n",
    "\n",
    "teens_df_labeled = teens_df.join(teens_labels)"
   ]
  },
  {
   "cell_type": "code",
   "execution_count": null,
   "metadata": {},
   "outputs": [],
   "source": [
    "teens_df_labeled.head(10)"
   ]
  },
  {
   "cell_type": "code",
   "execution_count": null,
   "metadata": {},
   "outputs": [],
   "source": [
    "# Dataset for cluster-1\n",
    "\n",
    "teen_cluster1 = teens_df_labeled.loc[teens_df_labeled.cluster_labels == 0]\n",
    "print('\\nCluster-1 dataset shape:', teen_cluster1.shape)\n",
    "\n",
    "with pd.option_context('display.max_rows', None, 'display.max_columns', None):\n",
    "    display(teen_cluster1.head())"
   ]
  },
  {
   "cell_type": "code",
   "execution_count": null,
   "metadata": {},
   "outputs": [],
   "source": [
    "# Dataset for cluster-2\n",
    "\n",
    "teen_cluster2 = teens_df_labeled.loc[teens_df_labeled.cluster_labels == 1]\n",
    "print('\\nCluster-2 dataset shape:', teen_cluster2.shape)\n",
    "\n",
    "with pd.option_context('display.max_rows', None, 'display.max_columns', None):\n",
    "    display(teen_cluster2.head())"
   ]
  },
  {
   "cell_type": "markdown",
   "metadata": {},
   "source": [
    "### Clustering helps in identifying outliers, cluster-3 (with cluster_label=2) has one teenager who is an outlier"
   ]
  },
  {
   "cell_type": "code",
   "execution_count": null,
   "metadata": {},
   "outputs": [],
   "source": [
    "# Dataset for cluster-3\n",
    "\n",
    "teen_cluster3 = teens_df_labeled.loc[teens_df_labeled.cluster_labels == 2]\n",
    "print('\\nCluster-3 dataset shape:', teen_cluster3.shape)\n",
    "\n",
    "with pd.option_context('display.max_rows', None, 'display.max_columns', None):\n",
    "    display(teen_cluster3.head())"
   ]
  },
  {
   "cell_type": "code",
   "execution_count": null,
   "metadata": {},
   "outputs": [],
   "source": [
    "# Dataset for cluster-4\n",
    "\n",
    "teen_cluster4 = teens_df_labeled.loc[teens_df_labeled.cluster_labels == 3]\n",
    "print('\\nCluster-4 dataset shape:', teen_cluster4.shape)\n",
    "\n",
    "with pd.option_context('display.max_rows', None, 'display.max_columns', None):\n",
    "    display(teen_cluster4.head())"
   ]
  },
  {
   "cell_type": "code",
   "execution_count": null,
   "metadata": {},
   "outputs": [],
   "source": [
    "# Dataset for cluster-5\n",
    "\n",
    "teen_cluster5 = teens_df_labeled.loc[teens_df_labeled.cluster_labels == 4]\n",
    "print('\\nCluster-5 dataset shape:', teen_cluster5.shape)\n",
    "\n",
    "with pd.option_context('display.max_rows', None, 'display.max_columns', None):\n",
    "    display(teen_cluster5.head())"
   ]
  },
  {
   "cell_type": "code",
   "execution_count": null,
   "metadata": {},
   "outputs": [],
   "source": [
    "# Dataset for cluster-6\n",
    "\n",
    "teen_cluster6 = teens_df_labeled.loc[teens_df_labeled.cluster_labels == 5]\n",
    "print('\\nCluster-6 dataset shape:', teen_cluster6.shape)\n",
    "\n",
    "with pd.option_context('display.max_rows', None, 'display.max_columns', None):\n",
    "    display(teen_cluster6.head())\n"
   ]
  },
  {
   "cell_type": "markdown",
   "metadata": {},
   "source": [
    "Silhouette refers to a method of interpretation and validation of consistency within clusters of data. \n",
    "The technique provides a graphical representation of how well each object lies within its cluster."
   ]
  },
  {
   "cell_type": "code",
   "execution_count": null,
   "metadata": {},
   "outputs": [],
   "source": []
  },
  {
   "cell_type": "code",
   "execution_count": null,
   "metadata": {},
   "outputs": [],
   "source": []
  }
 ],
 "metadata": {
  "kernelspec": {
   "display_name": "Python 3",
   "language": "python",
   "name": "python3"
  },
  "language_info": {
   "codemirror_mode": {
    "name": "ipython",
    "version": 3
   },
   "file_extension": ".py",
   "mimetype": "text/x-python",
   "name": "python",
   "nbconvert_exporter": "python",
   "pygments_lexer": "ipython3",
   "version": "3.6.5"
  }
 },
 "nbformat": 4,
 "nbformat_minor": 2
}
